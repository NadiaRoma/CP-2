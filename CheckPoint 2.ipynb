{
 "cells": [
  {
   "cell_type": "code",
   "execution_count": 1,
   "id": "83836d17",
   "metadata": {},
   "outputs": [],
   "source": [
    "#Question 1\n",
    "#Write a program that will find all numbers which are divisible by 7 but are not a multiple of 5, between 2000 and 3200 \n",
    "#(both included). The numbers obtained should be printed in a list.\n",
    "#Hints: Consider using the range(#begin, #end) method."
   ]
  },
  {
   "cell_type": "code",
   "execution_count": 5,
   "id": "6122b77b",
   "metadata": {},
   "outputs": [
    {
     "name": "stdout",
     "output_type": "stream",
     "text": [
      "[2002, 2009, 2016, 2023, 2037, 2044, 2051, 2058, 2072, 2079, 2086, 2093, 2107, 2114, 2121, 2128, 2142, 2149, 2156, 2163, 2177, 2184, 2191, 2198, 2212, 2219, 2226, 2233, 2247, 2254, 2261, 2268, 2282, 2289, 2296, 2303, 2317, 2324, 2331, 2338, 2352, 2359, 2366, 2373, 2387, 2394, 2401, 2408, 2422, 2429, 2436, 2443, 2457, 2464, 2471, 2478, 2492, 2499, 2506, 2513, 2527, 2534, 2541, 2548, 2562, 2569, 2576, 2583, 2597, 2604, 2611, 2618, 2632, 2639, 2646, 2653, 2667, 2674, 2681, 2688, 2702, 2709, 2716, 2723, 2737, 2744, 2751, 2758, 2772, 2779, 2786, 2793, 2807, 2814, 2821, 2828, 2842, 2849, 2856, 2863, 2877, 2884, 2891, 2898, 2912, 2919, 2926, 2933, 2947, 2954, 2961, 2968, 2982, 2989, 2996, 3003, 3017, 3024, 3031, 3038, 3052, 3059, 3066, 3073, 3087, 3094, 3101, 3108, 3122, 3129, 3136, 3143, 3157, 3164, 3171, 3178, 3192, 3199]\n"
     ]
    }
   ],
   "source": [
    "MyList=[]\n",
    "for X in range(2000,3201,1):\n",
    "    if X%7==0 and X%5!=0:\n",
    "        MyList.append(X)\n",
    "print(MyList)\n",
    "\n",
    "        "
   ]
  },
  {
   "cell_type": "code",
   "execution_count": 6,
   "id": "9736311e",
   "metadata": {},
   "outputs": [],
   "source": [
    "#Question 2 \n",
    "#Write a program that can compute the factorial of a given number. (the factorial of n is the product of all positive integers\n",
    "#less than or equal to n). for example factorial(5)= 5 x 4 x 3 x 2 x 1 the result is 120.  (i.e. factorial (0)=1)"
   ]
  },
  {
   "cell_type": "code",
   "execution_count": 43,
   "id": "efe83418",
   "metadata": {},
   "outputs": [
    {
     "name": "stdout",
     "output_type": "stream",
     "text": [
      "120\n"
     ]
    }
   ],
   "source": [
    "def factorial(x):\n",
    "    if x==0:\n",
    "        print(\"1\")\n",
    "    else:\n",
    "     y=1\n",
    "     for i in range(1,x+1):\n",
    "        y=y*i\n",
    "     print(y)\n",
    "factorial(5)"
   ]
  },
  {
   "cell_type": "code",
   "execution_count": 44,
   "id": "dc5637c4",
   "metadata": {},
   "outputs": [],
   "source": [
    "#Question 3 \n",
    "#With a given integer number n, write a program to generate a dictionary that contains (i, i*i) such that is an integral number\n",
    "#between 1 and n (both included). and then the program should print the dictionary. Suppose the following input is supplied to\n",
    "#the program: 8 Then, the output should be: {1: 1, 2: 4, 3: 9, 4: 16, 5: 25, 6: 36, 7: 49, 8: 64}  "
   ]
  },
  {
   "cell_type": "code",
   "execution_count": 50,
   "id": "9315416d",
   "metadata": {},
   "outputs": [
    {
     "name": "stdout",
     "output_type": "stream",
     "text": [
      "{1: 1, 2: 4, 3: 9, 4: 16, 5: 25, 6: 36, 7: 49, 8: 64}\n"
     ]
    }
   ],
   "source": [
    "def Dictio(x):\n",
    "    Nombre={}\n",
    "    for i in range(1,x+1):\n",
    "        Nombre[i]=i*i\n",
    "    print(Nombre)\n",
    "Dictio(8)\n",
    "        "
   ]
  },
  {
   "cell_type": "code",
   "execution_count": 1,
   "id": "4662ddf3",
   "metadata": {},
   "outputs": [],
   "source": [
    "#Question 4 \n",
    "#Given a non-empty string and an int n, return a new string where the char at index n has been removed. The value of n will \n",
    "#be a valid index of a char in the original string (i.e. n will be in the range 0..len(str)-1 inclusive). \n",
    "#missing_char('kitten', 1) → 'ktten'    for example here we remove \"i\" which is located in the index 1\n",
    "#missing_char('kitten', 0) → 'itten'   here we remove \"k\" which is in the index 0\n",
    "#missing_char('kitten', 4) → 'kittn'   here we remove \"e\" which is in the index 4"
   ]
  },
  {
   "cell_type": "code",
   "execution_count": 69,
   "id": "d8aaad8b",
   "metadata": {},
   "outputs": [
    {
     "name": "stdout",
     "output_type": "stream",
     "text": [
      "ndia\n"
     ]
    }
   ],
   "source": [
    "def efface(ch,n):\n",
    "    for i in range(n,len(ch)+1):\n",
    "        if i==n:\n",
    "         ch=ch[:i]+ch[i+1:]\n",
    "        \n",
    "    print(ch)\n",
    "efface('nadia',1)"
   ]
  },
  {
   "cell_type": "code",
   "execution_count": 70,
   "id": "97b659db",
   "metadata": {},
   "outputs": [],
   "source": [
    "#Question 5 \n",
    "#Write a NumPy program to convert a NumPy array into a Python list structure.\n",
    "#Expected Output: \n",
    "#Original array elements: [[0 1] [2 3] [4 5]] \n",
    "#Array to list: [[0, 1], [2, 3], [4, 5]] \n",
    "#Hint: we can use the to_list() function to ensure the conversion."
   ]
  },
  {
   "cell_type": "code",
   "execution_count": 54,
   "id": "69973e6d",
   "metadata": {},
   "outputs": [
    {
     "name": "stdout",
     "output_type": "stream",
     "text": [
      "[array([0, 1]), array([1, 2])]\n"
     ]
    }
   ],
   "source": [
    "import numpy as np\n",
    "a=np.array([[0,1],[1,2]])\n",
    "a=list(a)\n",
    "print(a)\n",
    "\n",
    "\n"
   ]
  },
  {
   "cell_type": "code",
   "execution_count": 52,
   "id": "4e1bae63",
   "metadata": {},
   "outputs": [],
   "source": [
    "#Question 6\n",
    "#Write a NumPy program to compute the covariance matrix of two given arrays. \n",
    "#Original array1: [0 1 2] \n",
    "#Original array2: [2 1 0] \n",
    "#Covariance matrix of the said arrays: [[ 1. -1.] [-1. 1.]]\n",
    "#Hint: We can use the np.cov() function to calculate the covariance between these two arrays"
   ]
  },
  {
   "cell_type": "code",
   "execution_count": 18,
   "id": "4978f81b",
   "metadata": {},
   "outputs": [
    {
     "data": {
      "text/plain": [
       "array([[ 1., -1.],\n",
       "       [-1.,  1.]])"
      ]
     },
     "execution_count": 18,
     "metadata": {},
     "output_type": "execute_result"
    }
   ],
   "source": [
    "import numpy as np\n",
    "a=np.array([0,1,2])\n",
    "a1=np.array([2,1,0])\n",
    "np.cov(a, a1)"
   ]
  },
  {
   "cell_type": "code",
   "execution_count": 19,
   "id": "0b8a08d2",
   "metadata": {},
   "outputs": [],
   "source": [
    "#Question 7\n",
    "#Question: Write a program that calculates and prints the value according to the given formula: Q = Square root of\n",
    "#[(2 * C * D)/H] \n",
    "#The following are the fixed values of C and H: C is 50. H is 30. \n",
    "#D is the variable whose values should be input into your program in a comma-separated sequence. (that means D contains more \n",
    "#than value)\n",
    "#Example Let's assume the following comma-separated input sequence is given to the program: 100,150,180 The output of the \n",
    "#program should be: 18,22,24 \n",
    "#To further explain this, we will obtain a result for each value of D:  Q1= Square root of [(2 * C * 100)/H] =18, \n",
    "#Q2= Square root of [(2 * C * 150)/H] = 22 and Q3 = Square root of [(2 * C * 180)/H]  = 24\n",
    "#Hints: If the output received is in decimal form, it should be rounded off to its nearest value (for example, if the output \n",
    "#received is 26.0, it should be printed as 26) In case of input data being supplied to the question, it should be assumed to be\n",
    "#a console input. "
   ]
  },
  {
   "cell_type": "code",
   "execution_count": 48,
   "id": "3abc505b",
   "metadata": {},
   "outputs": [
    {
     "name": "stdout",
     "output_type": "stream",
     "text": [
      "[18, 22, 24]\n"
     ]
    }
   ],
   "source": [
    "import math\n",
    "D=[100,150,180]\n",
    "Q=[]\n",
    "for i in range(3):\n",
    "    A=math.sqrt((2*50*D[i])/30)\n",
    "    \n",
    "    Q.append(int(A))\n",
    "\n",
    "print(Q)\n",
    "\n",
    "    \n",
    "    \n",
    "    "
   ]
  },
  {
   "cell_type": "code",
   "execution_count": null,
   "id": "a2d4b019",
   "metadata": {},
   "outputs": [],
   "source": []
  }
 ],
 "metadata": {
  "kernelspec": {
   "display_name": "Python 3",
   "language": "python",
   "name": "python3"
  },
  "language_info": {
   "codemirror_mode": {
    "name": "ipython",
    "version": 3
   },
   "file_extension": ".py",
   "mimetype": "text/x-python",
   "name": "python",
   "nbconvert_exporter": "python",
   "pygments_lexer": "ipython3",
   "version": "3.8.8"
  }
 },
 "nbformat": 4,
 "nbformat_minor": 5
}
